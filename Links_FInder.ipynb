{
  "nbformat": 4,
  "nbformat_minor": 0,
  "metadata": {
    "colab": {
      "name": "Links_FInder.ipynb",
      "provenance": []
    },
    "kernelspec": {
      "name": "python3",
      "display_name": "Python 3"
    }
  },
  "cells": [
    {
      "cell_type": "code",
      "metadata": {
        "id": "O0tRehVZTZ1I",
        "colab_type": "code",
        "colab": {}
      },
      "source": [
        "from bs4 import BeautifulSoup as bs"
      ],
      "execution_count": 0,
      "outputs": []
    },
    {
      "cell_type": "code",
      "metadata": {
        "id": "low_ibETT9tz",
        "colab_type": "code",
        "outputId": "ec575bd5-6020-4f77-f519-7b38d4f09b63",
        "colab": {
          "base_uri": "https://localhost:8080/",
          "height": 649
        }
      },
      "source": [
        "try: \n",
        "\tfrom googlesearch import search \n",
        "except ImportError: \n",
        "\tprint(\"No module named 'google' found\") \n",
        "word_to_Search = str(input(\"Enter the word you want to search:\"))\n",
        "top_level_Domain= input(\"Enter the domain extention like 'com, co,in..etc': \")\n",
        "Start_number = int(input(\"Enter which link you want to start with:\"))\n",
        "Stop_number = int(input(\"Enter number of results you want: \"))\n",
        "Time_pause = int(input(\"Enter pause time minimum number should be 2 :\"))\n",
        "Number = int(input(\"Number of links after every TIME PAUSE :\"))\n",
        "\n",
        "for output in search(word_to_Search, tld=top_level_Domain, num=Number,start=Start_number, stop=Stop_number, pause=Time_pause): \n",
        "\tprint(output) \n"
      ],
      "execution_count": 62,
      "outputs": [
        {
          "output_type": "stream",
          "text": [
            "Enter the word you want to search:amazon\n",
            "Enter the domain extention like 'com, co,in..etc': co.in\n",
            "Enter which link you want to start with:40\n",
            "Enter number of results you want: 30\n",
            "Enter pause time minimum number should be 2 :3\n",
            "Number of links after every TIME PAUSE :5\n",
            "https://abcnews.go.com/alerts/amazon\n",
            "https://www.theverge.com/good-deals/2019/11/6/20952250/black-friday-amazon-deals-devices-fire-tv-kindle-tablet-echo-smart-speaker-display\n",
            "https://nypost.com/2019/11/08/daddys-little-slut-kids-shirt-pulled-from-amazon-amid-backlash/\n",
            "https://downdetector.com/status/amazon/\n",
            "https://www.cnn.com/2019/11/08/cnn-underscored/oprahs-favorite-things-2019/index.html\n",
            "https://www.geekwire.com/2019/veteran-amazon-exec-steve-kessel-leave-leading-online-giants-physical-retail-transformation/\n",
            "https://www.techradar.com/black-friday/amazon-black-friday-deals-2019\n",
            "https://www.tmz.com/2019/11/08/daddys-little-slut-shirt-amazon-yanked-pulled-taken-down-uproar-backlash-baby-clothing/\n",
            "https://www.chase.com/personal/credit-cards/amazon\n",
            "https://www.chase.com/personal/credit-cards/amazon/view-account\n",
            "https://www.nasdaq.com/market-activity/stocks/amzn\n",
            "https://www.barrons.com/quote/stock/us/xnas/amzn\n",
            "https://www.buzzfeed.com/jennifertonti/things-from-amazon-youll-wear-so-often-theyll-p\n",
            "https://www.zdnet.com/article/best-amazon-black-friday-2019-deals/\n",
            "https://www.hollywoodreporter.com/thr-esq/woody-allen-ends-lawsuit-amazon-1253646\n",
            "https://www.usatoday.com/story/tech/reviewedcom/2019/11/08/black-friday-2019-amazon-leaks-deals-ring-kindle-echo-and-more/2531020001/\n",
            "https://www.axios.com/disney-deal-amazon-launch-bd054239-8d51-4d06-a33b-a8f6137b7d7f.html\n",
            "https://www.goodhousekeeping.com/holidays/christmas-ideas/a29740871/amazon-fake-christmas-trees-sale/\n",
            "https://www.couponcabin.com/coupons/amazon/\n",
            "https://www.retailmenot.com/view/amazon.com\n",
            "https://variety.com/2019/digital/news/critical-role-amazon-prime-video-legend-of-vox-machina-1203388522/\n",
            "https://www.newsweek.com/amazon-remove-daddys-little-slut-childrens-tshirt-1470597\n",
            "https://www.fool.com/investing/2019/11/09/are-we-at-peak-amazon.aspx\n",
            "https://www.latimes.com/world-nation/story/2019-11-07/amazon-kshama-sawant-seattle-socialist\n",
            "https://www.washingtonpost.com/business/2019/11/08/oracle-presses-ahead-with-pentagon-cloud-lawsuit-despite-amazons-loss/\n",
            "https://www.primevideo.com/\n",
            "http://www.mercurynews.com/black-friday-comes-early-deals-at-target-amazon-and-others\n",
            "https://www.fatherly.com/news/amazon-t-shirt-offensive-slogan/\n",
            "https://boingboing.net/2019/11/08/amazon-no-longer-selling-child.html\n",
            "https://thenextweb.com/artificial-intelligence/2019/11/08/amazons-roadmap-for-alexa-is-scarier-than-anything-facebook-or-twitter-is-doing/\n"
          ],
          "name": "stdout"
        }
      ]
    },
    {
      "cell_type": "code",
      "metadata": {
        "id": "OMsG3NmmVSj9",
        "colab_type": "code",
        "colab": {}
      },
      "source": [
        ""
      ],
      "execution_count": 0,
      "outputs": []
    }
  ]
}