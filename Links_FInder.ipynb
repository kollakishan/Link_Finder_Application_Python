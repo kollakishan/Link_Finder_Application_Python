{
  "nbformat": 4,
  "nbformat_minor": 0,
  "metadata": {
    "colab": {
      "name": "Links_FInder.ipynb",
      "provenance": []
    },
    "kernelspec": {
      "name": "python3",
      "display_name": "Python 3"
    }
  },
  "cells": [
    {
      "cell_type": "code",
      "metadata": {
        "id": "O0tRehVZTZ1I",
        "colab_type": "code",
        "colab": {}
      },
      "source": [
        "from bs4 import BeautifulSoup as bs"
      ],
      "execution_count": 0,
      "outputs": []
    },
    {
      "cell_type": "code",
      "metadata": {
        "id": "low_ibETT9tz",
        "colab_type": "code",
        "outputId": "2cca38de-bc37-4534-e84e-1a503789099b",
        "colab": {
          "base_uri": "https://localhost:8080/",
          "height": 612
        }
      },
      "source": [
        "try: \n",
        "\tfrom googlesearch import search \n",
        "except ImportError: \n",
        "\tprint(\"No module named 'google' found\") \n",
        "word_to_Search = str(input(\"Enter the word you want to search:\"))\n",
        "top_level_Domain= input(\"Enter the domain extention like 'com, co,in..etc': \")\n",
        "#Start_number = input(\"Enter which link you want to start with:\")\n",
        "Stop_number = int(input(\"Enter number of results you want: \"))\n",
        "Time_pause = int(input(\"Enter pause time minimum number should be 2 :\"))\n",
        "Number = int(input(\"Number of links after every TIME PAUSE :\"))\n",
        "\n",
        "for output in search(word_to_Search, tld=top_level_Domain, num=Number,stop=Stop_number, pause=Time_pause): \n",
        "\tprint(output) \n"
      ],
      "execution_count": 60,
      "outputs": [
        {
          "output_type": "stream",
          "text": [
            "Enter the word you want to search:pornhub\n",
            "Enter the domain extention like 'com, co,in..etc': co.in\n",
            "Enter number of results you want: 30\n",
            "Enter pause time minimum number should be 2 :2\n",
            "Number of links after every TIME PAUSE :3\n",
            "https://www.pornhub.com/\n",
            "https://www.pornhubselect.com/\n",
            "https://www.pornroi.com/pornhub/\n",
            "https://www.pornhubpremium.com/\n",
            "https://en.wikipedia.org/wiki/Pornhub\n",
            "https://porno800.com/pornhub/\n",
            "https://theporndude.com/566/pornhub\n",
            "https://twitter.com/pornhub?lang=en\n",
            "https://www.instagram.com/pornhub/?hl=en\n",
            "https://pornhubtoys.com/\n",
            "https://www.youtube.com/watch?v=nskUHvjylEA\n",
            "https://www.king-media.net/pornhub/\n",
            "https://www.pornhubapparel.com/\n",
            "https://www.chicagobusiness.com/marketing-media/kraft-heinz-and-unilever-vow-steer-clear-pornhub\n",
            "https://www.youtube.com/channel/UCYsYJ6od6t1lWnQg-A0n6Yw\n",
            "https://www.theverge.com/2019/10/14/20914593/pornhub-girls-do-porn-mindgeek-remove-channel-videos\n",
            "https://nypost.com/2019/10/24/mom-finds-missing-teen-girl-by-spotting-her-on-pornhub/\n",
            "https://www.cnbc.com/2019/11/04/unilever-and-kraft-heinz-criticized-by-politician-over-pornhub-adverts.html\n",
            "https://www.thesun.co.uk/news/10272650/pornhub-sex-porn-british-libido/\n",
            "https://twitter.com/pornhubclips?lang=en\n",
            "https://www.collegeporn.net/pornhub/\n",
            "https://www.pornofutai.com/pornhub/\n",
            "https://www.reddit.com/r/Pornhub/\n",
            "https://adage.com/article/digital/kraft-heinz-and-unilever-vow-steer-clear-pornhub/2212581\n",
            "https://www.popularmechanics.com/culture/web/a29623446/pornhub-porn-data-storage/\n",
            "https://pronhub.site/\n",
            "https://www.relax-porn.com/pornhub/\n",
            "https://www.dezeen.com/2019/08/27/pornhub-dirtiest-porn-ever-plastic-ocean-cleanup/\n",
            "https://www.tubev.sex/channels/2890/pornhub.com\n",
            "https://www.tmz.com/2019/10/08/joker-searches-spike-pornhub-movie-release-joaquin-phoenix/\n"
          ],
          "name": "stdout"
        }
      ]
    },
    {
      "cell_type": "code",
      "metadata": {
        "id": "OMsG3NmmVSj9",
        "colab_type": "code",
        "colab": {}
      },
      "source": [
        ""
      ],
      "execution_count": 0,
      "outputs": []
    }
  ]
}