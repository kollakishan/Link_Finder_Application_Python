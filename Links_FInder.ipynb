{
  "nbformat": 4,
  "nbformat_minor": 0,
  "metadata": {
    "colab": {
      "name": "Links_FInder.ipynb",
      "provenance": []
    },
    "kernelspec": {
      "name": "python3",
      "display_name": "Python 3"
    }
  },
  "cells": [
    {
      "cell_type": "code",
      "metadata": {
        "id": "O0tRehVZTZ1I",
        "colab_type": "code",
        "colab": {}
      },
      "source": [
        "from bs4 import BeautifulSoup as bs"
      ],
      "execution_count": 0,
      "outputs": []
    },
    {
      "cell_type": "code",
      "metadata": {
        "id": "low_ibETT9tz",
        "colab_type": "code",
        "colab": {
          "base_uri": "https://localhost:8080/",
          "height": 887
        },
        "outputId": "e9b6a0a4-1e36-44b7-f6f3-60883de1231f"
      },
      "source": [
        "try: \n",
        "\tfrom googlesearch import search \n",
        "except ImportError: \n",
        "\tprint(\"No module named 'google' found\") \n",
        "word_to_Search = \"amazon\"\n",
        "stop_value = \n",
        "for j in search(word_to_Search, tld=\"com\", num=10, stop=stop_value, pause=2): \n",
        "\tprint(j) \n"
      ],
      "execution_count": 40,
      "outputs": [
        {
          "output_type": "stream",
          "text": [
            "https://www.amazon.com/\n",
            "https://www.amazon.com/gp/prime\n",
            "https://www.amazon.com/gp/site-directory\n",
            "https://www.amazon.com/books-used-books-textbooks/b?ie=UTF8&node=283155\n",
            "https://www.amazon.com/Black-Friday/b?ie=UTF8&node=384082011\n",
            "https://www.amazon.com/fcpractices\n",
            "https://www.amazon.com/Prime-Video/b?ie=UTF8&node=2676882011\n",
            "https://www.aboutamazon.com/\n",
            "https://www.facebook.com/Amazon/\n",
            "https://www.youtube.com/user/amazon\n",
            "https://www.cnet.com/news/best-amazon-black-friday-deals/\n",
            "https://www.amazon.jobs/\n",
            "https://en.wikipedia.org/wiki/Amazon_(company)\n",
            "https://twitter.com/amazon?lang=en\n",
            "https://www.forbes.com/sites/gordonkelly/2019/11/07/amazon-black-friday-2019-best-deals-echo-dot-kindle-fire-hd-tablet-tv-sales/\n",
            "https://www.linkedin.com/company/amazon\n",
            "https://apps.apple.com/us/app/amazon-shopping-made-easy/id297606951\n",
            "https://finance.yahoo.com/quote/AMZN?p=AMZN\n",
            "https://people.com/style/dokotoo-teddy-jacket-amazon/\n",
            "https://www.amazon.jobs/location/virtual-locations\n",
            "https://fortune.com/fortune500/2019/amazon-com/\n",
            "https://mashable.com/category/amazon/\n",
            "https://www.amazondelivers.jobs/\n",
            "https://www.newyorker.com/magazine/2019/10/21/is-amazon-unstoppable\n",
            "https://amazon.force.com/\n",
            "https://www.woot.com/amazon-prime-benefits\n",
            "https://www.rakuten.com/amazon.htm\n",
            "https://www.synchronycredit.com/eSecurity/Login/login.action?clientId=amazon&accountType=plcc&langId=en\n",
            "https://slickdeals.net/coupons/amazon/\n",
            "https://www.marketwatch.com/investing/stock/amzn\n",
            "https://bestblackfriday.com/store/amazon\n",
            "https://www.foxbusiness.com/category/amazon\n",
            "https://www.cnbc.com/quotes/?symbol=AMZN\n",
            "https://www.va.gov/opa/amazon.asp\n",
            "https://www.businessinsider.com/amazon-headquarters-homeless-shelter-seattle-2019-11\n",
            "https://www.amazonrobotics.com/\n",
            "https://www.createspace.com/\n",
            "https://www.theblackfriday.com/amazon-blackfriday.shtml\n",
            "https://www.bloomberg.com/news/articles/2019-11-08/amazon-merchant-lays-out-antitrust-case-in-letter-to-congress\n",
            "https://www.groupon.com/coupons/stores/amazon.com\n",
            "https://www.wsj.com/articles/amazon-s-fire-tv-to-carry-disney-11573162055\n",
            "https://abcnews.go.com/alerts/amazon\n",
            "https://www.theverge.com/good-deals/2019/11/6/20952250/black-friday-amazon-deals-devices-fire-tv-kindle-tablet-echo-smart-speaker-display\n",
            "https://nypost.com/2019/11/08/daddys-little-slut-kids-shirt-pulled-from-amazon-amid-backlash/\n",
            "https://downdetector.com/status/amazon/\n",
            "https://www.cnn.com/2019/11/08/cnn-underscored/oprahs-favorite-things-2019/index.html\n",
            "https://www.tmz.com/2019/11/08/daddys-little-slut-shirt-amazon-yanked-pulled-taken-down-uproar-backlash-baby-clothing/\n",
            "https://www.chase.com/personal/credit-cards/amazon\n",
            "https://www.chase.com/personal/credit-cards/amazon/view-account\n",
            "https://www.nasdaq.com/market-activity/stocks/amzn\n"
          ],
          "name": "stdout"
        }
      ]
    },
    {
      "cell_type": "code",
      "metadata": {
        "id": "OMsG3NmmVSj9",
        "colab_type": "code",
        "colab": {}
      },
      "source": [
        ""
      ],
      "execution_count": 0,
      "outputs": []
    }
  ]
}